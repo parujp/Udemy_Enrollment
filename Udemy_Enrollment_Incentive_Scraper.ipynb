{
 "cells": [
  {
   "cell_type": "markdown",
   "metadata": {},
   "source": [
    "### UDEMY - COURSE ENROLLMENT AND COURSE INCENTIVES\n",
    "\n",
    "Scraping enrollment data from Udemy requires following the links that were scraped previously and getting to the course URLs to get no of students enrolled for each course and counting the incentives to enroll in each course.\n",
    "\n",
    "Incentives include:\n",
    "\n",
    "- Number of hours of on-demand video\n",
    "- Number of Articles\n",
    "- No of coding exercises/practical exercises\n",
    "- Full lifetime access\n",
    "- Access on mobile/TV\n",
    "- Certificate of completeing\n",
    "- Number of Supplemental Resources\n",
    "\n"
   ]
  },
  {
   "cell_type": "code",
   "execution_count": 15,
   "metadata": {
    "collapsed": true
   },
   "outputs": [],
   "source": [
    "import re\n",
    "from bs4 import BeautifulSoup\n",
    "import pandas as pd\n",
    "from selenium import webdriver\n",
    "from selenium.webdriver.common.keys import Keys\n",
    "from selenium.common.exceptions import NoSuchElementException\n",
    "from selenium.webdriver.support.ui import Select\n",
    "import time \n",
    "import os\n",
    "import pickle\n"
   ]
  },
  {
   "cell_type": "code",
   "execution_count": 16,
   "metadata": {
    "collapsed": true
   },
   "outputs": [],
   "source": [
    "#set up the driver\n",
    "chromedriver = \"/Applications/chromedriver\"\n",
    "os.environ[\"webdriver.chrome.driver\"] = chromedriver\n",
    "driver = webdriver.Chrome(chromedriver)\n",
    "driver.implicitly_wait(3) "
   ]
  },
  {
   "cell_type": "code",
   "execution_count": 3,
   "metadata": {
    "collapsed": true
   },
   "outputs": [],
   "source": [
    "with open ('udemy_course_links.pkl','rb') as picklefile:\n",
    "    url_list = pickle.load(picklefile)"
   ]
  },
  {
   "cell_type": "code",
   "execution_count": 51,
   "metadata": {
    "collapsed": true
   },
   "outputs": [],
   "source": [
    "enrollment_incentives=[]"
   ]
  },
  {
   "cell_type": "code",
   "execution_count": 52,
   "metadata": {
    "collapsed": false
   },
   "outputs": [
    {
     "name": "stdout",
     "output_type": "stream",
     "text": [
      "End of serach result\n"
     ]
    }
   ],
   "source": [
    "\n",
    "try:\n",
    "    baseURL = 'https://www.udemy.com/'\n",
    "    for link_no in range(len(enrollment),len(url_list)):\n",
    "        query = url_list[link_no].strip('/')\n",
    "        searchURL = baseURL+query\n",
    "        driver.get(searchURL)\n",
    "        time.sleep(2)\n",
    "\n",
    "        soup = BeautifulSoup(driver.page_source, 'html.parser')\n",
    "        time.sleep(2)\n",
    "        enrollment_tag = soup.find('div', attrs = {'data-purpose':'enrollment'})\n",
    "        enrollment_num = enrollment_tag.text\n",
    "        enrollment.append(enrollment_num.strip('\\n \\n').strip(' students enrolled'))\n",
    "        incentives.append(len(soup.find_all(class_= 'incentives__item')))\n",
    "        time.sleep(2.5)\n",
    "        \n",
    "    e_i_details = zip(*[enrollment, incentives])\n",
    "    e_i_details = list(enrollment_incentives)\n",
    "    enrollment_incentives.extend(e_i_details)\n",
    "    time.sleep(3)\n",
    "    print(\"End of serach result\")\n",
    "    with open(\"udemy_enrollment_incentive.pkl\",'wb') as picklefile:\n",
    "                pickle.dump(enrollment_incentives,picklefile)\n",
    "    \n",
    "except Exception as e:\n",
    "    print(e)\n",
    "    print('Search failed on page:')"
   ]
  },
  {
   "cell_type": "code",
   "execution_count": 48,
   "metadata": {
    "collapsed": true
   },
   "outputs": [],
   "source": [
    "with open ('enrollment.pkl','wb') as picklefile:\n",
    "    pickle.dump(enrollment, picklefile)"
   ]
  },
  {
   "cell_type": "code",
   "execution_count": 49,
   "metadata": {
    "collapsed": true
   },
   "outputs": [],
   "source": [
    "with open ('incentives.pkl','wb') as picklefile:\n",
    "    pickle.dump(incentives, picklefile)"
   ]
  },
  {
   "cell_type": "code",
   "execution_count": 62,
   "metadata": {
    "collapsed": true
   },
   "outputs": [],
   "source": [
    "e_i_details = zip(*[enrollment, incentives])\n",
    "e_i_details = list(e_i_details)\n",
    "enrollment_incentives.extend(e_i_details)"
   ]
  },
  {
   "cell_type": "code",
   "execution_count": 66,
   "metadata": {
    "collapsed": false
   },
   "outputs": [
    {
     "data": {
      "text/plain": [
       "1288"
      ]
     },
     "execution_count": 66,
     "metadata": {},
     "output_type": "execute_result"
    }
   ],
   "source": [
    "len(enrollment_incentives)"
   ]
  },
  {
   "cell_type": "code",
   "execution_count": 65,
   "metadata": {
    "collapsed": true
   },
   "outputs": [],
   "source": [
    "with open ('enrollment_incentives.pkl','wb') as picklefile:\n",
    "    pickle.dump(enrollment_incentives, picklefile)"
   ]
  },
  {
   "cell_type": "code",
   "execution_count": 67,
   "metadata": {
    "collapsed": false
   },
   "outputs": [
    {
     "data": {
      "text/plain": [
       "256"
      ]
     },
     "execution_count": 67,
     "metadata": {},
     "output_type": "execute_result"
    }
   ],
   "source": [
    "# finish well\n",
    "driver.quit()\n",
    "os.system('killall chrome')"
   ]
  },
  {
   "cell_type": "code",
   "execution_count": null,
   "metadata": {
    "collapsed": true
   },
   "outputs": [],
   "source": []
  },
  {
   "cell_type": "code",
   "execution_count": null,
   "metadata": {
    "collapsed": true
   },
   "outputs": [],
   "source": []
  }
 ],
 "metadata": {
  "kernelspec": {
   "display_name": "Python 3",
   "language": "python",
   "name": "python3"
  },
  "language_info": {
   "codemirror_mode": {
    "name": "ipython",
    "version": 3
   },
   "file_extension": ".py",
   "mimetype": "text/x-python",
   "name": "python",
   "nbconvert_exporter": "python",
   "pygments_lexer": "ipython3",
   "version": "3.6.6"
  }
 },
 "nbformat": 4,
 "nbformat_minor": 2
}
